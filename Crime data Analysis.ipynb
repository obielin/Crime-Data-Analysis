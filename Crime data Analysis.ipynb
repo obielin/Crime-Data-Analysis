{
 "cells": [
  {
   "cell_type": "markdown",
   "id": "549fbb4e",
   "metadata": {},
   "source": [
    "#   Crime Classification Task\n",
    "### Project Purpose\n",
    "The \"Crime Classification Task\" project is a compelling endeavor aimed at tackling one of the most pressing challenges in the realm of law enforcement and public safety - the efficient and accurate classification of criminal activities. At its core, this project seeks to harness the power of data science and machine learning to create a robust system capable of categorizing various crimes into their appropriate classifications."
   ]
  },
  {
   "cell_type": "markdown",
   "id": "e3bf5513",
   "metadata": {},
   "source": [
    "###  Import neccesary libraries\n",
    "-   These libraries provide various functions and tools needed for data manipulation and analysis."
   ]
  },
  {
   "cell_type": "code",
   "execution_count": null,
   "id": "24dfcee0",
   "metadata": {},
   "outputs": [],
   "source": [
    "#Import Libraries\n",
    "%pip install plotnine\n",
    "from plotnine import *\n",
    "theme_set(theme_gray())\n",
    "import pandas as pd\n",
    "import numpy as np\n",
    "import seaborn as sns\n",
    "import matplotlib.pyplot as plt\n",
    "from IPython.display import display, Markdown\n",
    "from plotnine import *\n",
    "%matplotlib inline"
   ]
  },
  {
   "cell_type": "markdown",
   "id": "29ced076",
   "metadata": {},
   "source": [
    "### Load in the dataset into a pandas dataframe, print statistics"
   ]
  },
  {
   "cell_type": "code",
   "execution_count": null,
   "id": "132bbf82",
   "metadata": {},
   "outputs": [],
   "source": [
    "#Load in the dataset into a pandas dataframe, print statistics\n",
    "crime= pd.read_csv('crimedata.csv')\n",
    "crime.head(5)"
   ]
  },
  {
   "cell_type": "code",
   "execution_count": null,
   "id": "77860ce1",
   "metadata": {},
   "outputs": [],
   "source": [
    "#view Crime shape\n",
    "crime.shape"
   ]
  },
  {
   "cell_type": "code",
   "execution_count": null,
   "id": "3963390e",
   "metadata": {},
   "outputs": [],
   "source": [
    "#View crime Info\n",
    "crime.info()"
   ]
  },
  {
   "cell_type": "markdown",
   "id": "b89bf718",
   "metadata": {},
   "source": [
    "#### Data preprocessing and cleaning\n",
    "Data Preprocessing Overview\n",
    "This section focuses on preparing our crime dataset for analysis. Data preprocessing is a crucial step in any data science project as it ensures the quality and reliability of the data, especially in a complex domain like crime classification. Our preprocessing steps include handling missing values, refining data types, and dropping unnecessary columns."
   ]
  },
  {
   "cell_type": "code",
   "execution_count": null,
   "id": "975a5cde",
   "metadata": {},
   "outputs": [],
   "source": [
    "#View the missing values in the dataset\n",
    "crime.isna().sum()"
   ]
  },
  {
   "cell_type": "markdown",
   "id": "404c2053",
   "metadata": {},
   "source": [
    "#### Handling Missing Values in 'Mocodes': \n",
    "-  Assign a default value of '1501 Other MO' to missing entries in the 'Mocodes' column, as per the MO codes document. This step ensures that our dataset does not have gaps in this critical field, which could impact the analysis."
   ]
  },
  {
   "cell_type": "code",
   "execution_count": null,
   "id": "a45e7979",
   "metadata": {},
   "outputs": [],
   "source": [
    "#DATA CLEANSING\n",
    "#assign '1501 Other MO' to missing values for unknown MO\n",
    "#gotten fro MO codes document\n",
    "crime['Mocodes'].fillna('1501 Other MO', inplace=True)"
   ]
  },
  {
   "cell_type": "markdown",
   "id": "16506464",
   "metadata": {},
   "source": [
    "#### Filling Missing Values for Victim Sex and Descent\n",
    "-   For the 'Vict Sex' and 'Vict Descent' columns, missing values are assigned 'X' to indicate unknown data. This approach maintains data integrity while acknowledging the absence of specific information. "
   ]
  },
  {
   "cell_type": "code",
   "execution_count": null,
   "id": "ec56ef6c",
   "metadata": {},
   "outputs": [],
   "source": [
    "#assign X to missing values for unknown victim sex\n",
    "crime['Vict Sex'].fillna('X', inplace=True)"
   ]
  },
  {
   "cell_type": "code",
   "execution_count": null,
   "id": "1be8fdfb",
   "metadata": {},
   "outputs": [],
   "source": [
    "#assign X to missing values for unknown Vict Descent  \n",
    "crime['Vict Descent'].fillna('X', inplace=True)"
   ]
  },
  {
   "cell_type": "markdown",
   "id": "dec75060",
   "metadata": {},
   "source": [
    "####    Dropping Missing Rows in 'Premis Desc'\n",
    "-   Removed rows with missing values in the 'Premis Desc' column. This decision is made on the assumption that premise description is vital for the analysis, and missing values here could lead to inaccurate classifications."
   ]
  },
  {
   "cell_type": "code",
   "execution_count": null,
   "id": "98999cf9",
   "metadata": {},
   "outputs": [],
   "source": [
    "#drop the missing rows for premise description\n",
    "crime = crime.dropna(subset=['Premis Desc'])"
   ]
  },
  {
   "cell_type": "markdown",
   "id": "b0fdf4c0",
   "metadata": {},
   "source": [
    "####    Addressing Missing Weapon Information\n",
    "-   For the 'Weapon Used Cd' and 'Weapon Desc' columns, missing values are filled with a default code '500' and a description 'UNKNOWN WEAPON/OTHER WEAPON', respectively based on the information in data lacity crime numerical codes. This step is important to maintain consistency in weapon-related data."
   ]
  },
  {
   "cell_type": "code",
   "execution_count": null,
   "id": "f62d6158",
   "metadata": {},
   "outputs": [],
   "source": [
    "#Assign 500 =  UNKNOWN WEAPON/OTHER WEAPON for missing weapon used cd\n",
    "crime['Weapon Used Cd'].fillna(500, inplace=True)"
   ]
  },
  {
   "cell_type": "code",
   "execution_count": null,
   "id": "690f2916",
   "metadata": {},
   "outputs": [],
   "source": [
    "#Assign UNKNOWN WEAPON/OTHER WEAPON for missing weapon description\n",
    "crime['Weapon Desc'].fillna('UNKNOWN WEAPON/OTHER WEAPON', inplace=True)"
   ]
  },
  {
   "cell_type": "markdown",
   "id": "20d8583f",
   "metadata": {},
   "source": [
    "####    Streamlining the Dataset by Dropping Columns\n",
    "-   We remove several columns ('Part 1-2', 'Crm Cd 1', 'Crm Cd 2', 'Crm Cd 3', 'Crm Cd 4') from our dataset. This is done to focus on the most relevant data and to simplify our analysis framework."
   ]
  },
  {
   "cell_type": "code",
   "execution_count": null,
   "id": "0b181053",
   "metadata": {},
   "outputs": [],
   "source": [
    "#drop the column part 1-2 from the dataframe\n",
    "crime.drop('Part 1-2', axis=1, inplace=True)\n",
    "#drop the column Crm Cd 1\n",
    "crime.drop('Crm Cd 1', axis=1, inplace=True)\n",
    "#drop the column Crm Cd 2\n",
    "crime.drop('Crm Cd 2', axis=1, inplace=True)\n",
    "#drop the column Crm Cd 3\n",
    "crime.drop('Crm Cd 3', axis=1, inplace=True)\n",
    "#drop the column Crm Cd 4\n",
    "crime.drop('Crm Cd 4', axis=1, inplace=True)"
   ]
  },
  {
   "cell_type": "markdown",
   "id": "72c69e3e",
   "metadata": {},
   "source": [
    "####    Handling Missing Values in 'Cross Street'\n",
    "-   Missing values in the 'Cross Street' column are filled with 'None', ensuring a complete dataset for geographical analysis."
   ]
  },
  {
   "cell_type": "code",
   "execution_count": null,
   "id": "4bfc38a3",
   "metadata": {},
   "outputs": [],
   "source": [
    "#assign none to missing values for unknown Cross Street\n",
    "crime['Cross Street'].fillna('None', inplace=True)"
   ]
  },
  {
   "cell_type": "markdown",
   "id": "baf6155e",
   "metadata": {},
   "source": [
    "\n",
    "####    Refining the 'Date Rptd' Column\n",
    "-   The 'Date Rptd' column is converted to a datetime format, and we extract 'Year', 'Month', and 'Day' as separate columns. This step enhances our capability to perform time-based analysis on the crime data."
   ]
  },
  {
   "cell_type": "code",
   "execution_count": null,
   "id": "78549126",
   "metadata": {},
   "outputs": [],
   "source": [
    "#Change time datatype to integer\n",
    "#separate Year, month, date from the date crime occured\n",
    "crime['Date Rptd'] = pd.to_datetime(crime['Date Rptd'])\n",
    "crime['Year'] = crime['Date Rptd'].dt.year\n",
    "crime['Month'] = crime['Date Rptd'].dt.month\n",
    "crime['Day'] = crime['Date Rptd'].dt.day"
   ]
  },
  {
   "cell_type": "markdown",
   "id": "00ae5b55",
   "metadata": {},
   "source": [
    "####    Column Renaming for Clarity\n",
    "-   Rename the columns to enhance the readability and consistency of our dataset. This step is crucial for maintaining a clear understanding of our data and for making our code more intuitive. This renaming aligns with Python's naming conventions and makes our data more accessible for analysis.\n",
    "\n"
   ]
  },
  {
   "cell_type": "code",
   "execution_count": null,
   "id": "ee16fdd8",
   "metadata": {},
   "outputs": [],
   "source": [
    "#rename column\n",
    "new_column_names = {'Date Rptd': 'date_rptd', \n",
    "                    'DATE OCC': 'date_occ', \n",
    "                    'TIME OCC': 'time_occ', \n",
    "                    'AREA NAME': 'area_name', \n",
    "                    'Rpt Dist No': 'rpt_dist_no', \n",
    "                    'Crm Cd': 'crm_cd', \n",
    "                    'Crm Cd Desc': 'crm_cd_desc', \n",
    "                    'Vict Age': 'vict_age', \n",
    "                    'Vict Sex': 'vict_sex', \n",
    "                    'Vict Descent': 'vict_descent', \n",
    "                    'Premis Cd': 'premis_cd', \n",
    "                    'Premis Desc': 'premis_desc', \n",
    "                    'Weapon Used Cd': 'weapon_used_cd', \n",
    "                    'Weapon Desc': 'weapon_desc', \n",
    "                    'Status Desc': 'status_desc',  \n",
    "                    'Cross Street': 'cross_street'\n",
    "                   }\n",
    "\n",
    "crime.rename(columns=new_column_names, inplace=True)\n"
   ]
  },
  {
   "cell_type": "markdown",
   "id": "75c390cf",
   "metadata": {},
   "source": [
    "####    Categorizing Crimes Based on UCR Reporting\n",
    "-   Crimes are categorised according to the Uniform Crime Reporting (UCR) standards. This involves defining categories like Homicide, Rape, Robbery, etc., and mapping them to their respective crime codes. This classification is essential for a structured analysis and for understanding the nature and severity of different crimes in the dataset."
   ]
  },
  {
   "cell_type": "code",
   "execution_count": null,
   "id": "62e5610d",
   "metadata": {
    "scrolled": false
   },
   "outputs": [],
   "source": [
    "#Assign Categories based on UCR reporting\n",
    "# Define the crime code categories\n",
    "# Based on UCR REPORTING – Return A (Based on date of reporting) in pdf file UCR.COMPSTAT062618\n",
    "HOMICIDE = [110, 113]\n",
    "RAPE = [121, 122, 815, 820, 821]\n",
    "ROBBERY = [210, 220]\n",
    "AGG_ASSAULTS = [230, 231, 235]\n",
    "DOMESTIC_VIOLENCE = [626, 627, 647, 763, 928, 930, 236, 250, 251, 761, 926]\n",
    "SIMPLE_ASSAULT = [435, 436, 437, 622, 623, 624, 625]\n",
    "BURGLARY = [310, 320]\n",
    "MVT = [510, 520, 433]\n",
    "BTFV = [330, 331, 410, 420, 421]\n",
    "PERSONAL_THFT = [350, 351, 352, 353, 450, 451, 452, 453]\n",
    "\n",
    "\n",
    "# Define a function to map crime codes to categories\n",
    "def map_category(code):\n",
    "    if code in HOMICIDE:\n",
    "        return 'HOMICIDE'\n",
    "    elif code in RAPE:\n",
    "        return 'RAPE'\n",
    "    elif code in ROBBERY:\n",
    "        return 'ROBBERY'\n",
    "    elif code in AGG_ASSAULTS:\n",
    "        return 'AGG.ASSAULTS'\n",
    "    elif code in DOMESTIC_VIOLENCE:\n",
    "        return 'Domestic.Violence'\n",
    "    elif code in SIMPLE_ASSAULT:\n",
    "        return 'SIMPLE.ASSAULT'\n",
    "    elif code in BURGLARY:\n",
    "        return 'BURGLARY'\n",
    "    elif code in MVT:\n",
    "        return 'MVT'\n",
    "    elif code in BTFV:\n",
    "        return 'BTFV'\n",
    "    elif code in PERSONAL_THFT:\n",
    "        return 'PERSONAL.THFT'\n",
    "    else:\n",
    "        return 'OTHER.THEFT'\n",
    "\n",
    "# Check if the 'crm_cd' column exists in the DataFrame\n",
    "if 'crm_cd' in crime.columns:\n",
    "    # Map the crime codes to categories\n",
    "    crime['crm_cd'] = crime['crm_cd'].apply(map_category)\n",
    "else:\n",
    "    print(\"The 'Crm Cd' column does not exist in the DataFrame.\")"
   ]
  },
  {
   "cell_type": "markdown",
   "id": "3d48bf88",
   "metadata": {},
   "source": [
    "####    Feature Engineering for Crime Categories\n",
    "-   Engineer a new feature, crime_category, based on the type of crime (e.g., Assault, Larceny) to gain deeper insights. This categorization is derived from the earlier classification and helps in further breaking down the analysis into more specific crime types indicated by the UCR code."
   ]
  },
  {
   "cell_type": "code",
   "execution_count": null,
   "id": "f439fdcc",
   "metadata": {},
   "outputs": [],
   "source": [
    "#Feature engineering for crime category (assault or larceny)\n",
    "# Create a dictionary to map crime codes to crime categories\n",
    "crime_dict = {\n",
    "    \"BTFV\": \"Larceny\",\n",
    "    \"BURGLARY\": \"Larceny\",\n",
    "    \"ROBBERY\": \"Larceny\",\n",
    "    \"MVT\": \"Larceny\",\n",
    "    \"OTHER.THEFT\": \"Larceny\",\n",
    "    \"PERSONAL.THFT\": \"Larceny\",\n",
    "    \"RAPE\": \"Assault\",\n",
    "    \"AGG.ASSAULTS\": \"Assault\",\n",
    "    \"Domestic.Violence\": \"Assault\",\n",
    "    \"SIMPLE.ASSAULT\": \"Assault\",\n",
    "    \"HOMICIDE\": \"Unknown\"\n",
    "}\n",
    "\n",
    "# Define a function to apply the dictionary to the \"crm_cd\" column\n",
    "def categorize_crime(crm_cd):\n",
    "    if crm_cd in crime_dict:\n",
    "        return crime_dict[crm_cd]\n",
    "    else:\n",
    "        return None\n",
    "\n",
    "# Apply the function to create a new column called \"crime_category\"\n",
    "crime[\"crime_category\"] = crime[\"crm_cd\"].apply(categorize_crime)\n"
   ]
  },
  {
   "cell_type": "markdown",
   "id": "97cc7dd9",
   "metadata": {},
   "source": [
    "####    Feature Engineering for Crime Types (Violent or Property)\n",
    "Another layer of the  analysis involves distinguishing between violent and property crimes. A new feature, crime_type, is created to categorize each crime as either 'Violent' or 'Property' based on the UCR document. This distinction is crucial for understanding the nature of crimes and for potential policy and resource allocation decisions."
   ]
  },
  {
   "cell_type": "code",
   "execution_count": null,
   "id": "d9b53737",
   "metadata": {},
   "outputs": [],
   "source": [
    "#Feature Engineering for crime type (violent or Property)\n",
    "# Create a dictionary to map crime codes to crime types\n",
    "crime_dict = {\n",
    "    \"BTFV\": \"Property\",\n",
    "    \"MVT\": \"Property\",\n",
    "    \"BURGLARY\": \"Property\",\n",
    "    \"OTHER.THEFT\": \"Property\",\n",
    "    \"PERSONAL.THFT\": \"Property\",\n",
    "    \"HOMICIDE\": \"Violent\",\n",
    "    \"RAPE\": \"Violent\",\n",
    "    \"ROBBERY\": \"Violent\",\n",
    "    \"AGG.ASSAULTS\": \"Violent\",\n",
    "    \"Domestic.Violence\": \"Violent\",\n",
    "    \"SIMPLE.ASSAULT\": \"Violent\"\n",
    "}\n",
    "\n",
    "# Define a function to apply the dictionary to the \"crm_cd\" column\n",
    "def categorize_crime_type(crm_cd):\n",
    "    if crm_cd in crime_dict:\n",
    "        return crime_dict[crm_cd]\n",
    "    else:\n",
    "        return None\n",
    "\n",
    "# Apply the function to create a new column called \"crime_type\"\n",
    "crime[\"crime_type\"] = crime[\"crm_cd\"].apply(categorize_crime_type)\n"
   ]
  },
  {
   "cell_type": "code",
   "execution_count": null,
   "id": "fcd67ef7",
   "metadata": {},
   "outputs": [],
   "source": [
    "#drop the column date_rptd\n",
    "crime.drop('date_rptd', axis=1, inplace=True)"
   ]
  },
  {
   "cell_type": "code",
   "execution_count": null,
   "id": "624e042f",
   "metadata": {},
   "outputs": [],
   "source": [
    "crime.isna().sum()"
   ]
  },
  {
   "cell_type": "code",
   "execution_count": null,
   "id": "b247cb8c",
   "metadata": {},
   "outputs": [],
   "source": [
    "crime.head(5)"
   ]
  },
  {
   "cell_type": "code",
   "execution_count": null,
   "id": "6d21d86e",
   "metadata": {},
   "outputs": [],
   "source": [
    " # save the DataFrame to a CSV file\n",
    "crime_data = crime.to_csv('allcleanedcrimedata', index=False)"
   ]
  },
  {
   "cell_type": "markdown",
   "id": "e0f2e3a0",
   "metadata": {},
   "source": [
    "### Data Analysis\n",
    "-   Analise and visualise the data"
   ]
  },
  {
   "cell_type": "code",
   "execution_count": null,
   "id": "85f87700",
   "metadata": {},
   "outputs": [],
   "source": [
    "#Load in the cleaned dataset into a pandas dataframe, print statistics\n",
    "crime_data = pd.read_csv('allcleanedcrimedata', index_col=0)\n",
    "#make a copy of the dataframe\n",
    "crime_data_copy = crime_data.copy()\n",
    "crime_data.head(5)"
   ]
  },
  {
   "cell_type": "code",
   "execution_count": null,
   "id": "e3817e11",
   "metadata": {},
   "outputs": [],
   "source": [
    "crime_data.shape\n",
    "crime_data.info()"
   ]
  },
  {
   "cell_type": "markdown",
   "id": "ff1a70b9",
   "metadata": {},
   "source": [
    "####    Statistical Summary of Crime Data\n",
    "Gain a quantitative understanding of the dataset through the describe() function. This function provides a statistical summary of all numeric columns in the crime_data DataFrame. Key statistics include:\n",
    "\n",
    "-   count: The number of non-null entries in each column.\n",
    "-   mean: The mean value of each column.\n",
    "-   std: The standard deviation, which measures the spread of the data.\n",
    "-   min: The minimum value in each column.\n",
    "-   25% (first quartile): The value below which 25% of the data falls.\n",
    "-   50% (median): The middle value of the dataset.\n",
    "-   75% (third quartile): The value below which 75% of the data falls.\n",
    "-   max: The maximum value in each column.\n",
    "These statistics are invaluable for understanding the distribution, variability, and central tendencies of our data, which are critical for informed data analysis and modeling."
   ]
  },
  {
   "cell_type": "code",
   "execution_count": null,
   "id": "2e43ccde",
   "metadata": {},
   "outputs": [],
   "source": [
    "#DESCRIPTIVE ANALYSIS\n",
    "crime_data.describe()"
   ]
  },
  {
   "cell_type": "code",
   "execution_count": null,
   "id": "0aac8010",
   "metadata": {},
   "outputs": [],
   "source": [
    "# select only numeric columns\n",
    "numeric_cols = crime_data.select_dtypes(include='number').columns\n",
    "\n",
    "# calculate the skewness of the numeric columns\n",
    "crime_data[numeric_cols].skew()"
   ]
  },
  {
   "cell_type": "code",
   "execution_count": null,
   "id": "d551cc48",
   "metadata": {},
   "outputs": [],
   "source": [
    "# select only numeric columns\n",
    "numeric_cols = crime_data.select_dtypes(include='number').columns\n",
    "\n",
    "# calculate the skewness of the numeric columns\n",
    "crime_data[numeric_cols].kurtosis()"
   ]
  },
  {
   "cell_type": "markdown",
   "id": "d7e81543",
   "metadata": {},
   "source": [
    "####    Distribution of Crimes Over Years\n",
    "A histogram plot of the 'Year' column from our crime_data dataset is used to visualize how crime incidents are distributed over the years. A histogram is an excellent tool for showing the frequency distribution of numerical data. It will provide insights into:\n",
    "\n",
    "-   Trends Over Time: Identifying which years had higher or lower crime rates.\n",
    "-   Data Skewness: Understanding if the data is skewed towards certain years.\n",
    "-   Data Outliers: Spotting any unusual spikes or drops in crime incidents in specific years.\n",
    "-   This histogram will help us understand the temporal patterns in our crime data, which can be crucial for trend analysis and forecasting future crime rates."
   ]
  },
  {
   "cell_type": "code",
   "execution_count": null,
   "id": "cb165252",
   "metadata": {},
   "outputs": [],
   "source": [
    "crime_data.Year.plot.hist()"
   ]
  },
  {
   "cell_type": "code",
   "execution_count": null,
   "id": "ff22946b",
   "metadata": {},
   "outputs": [],
   "source": [
    "#Univariate Analysis"
   ]
  },
  {
   "cell_type": "code",
   "execution_count": null,
   "id": "7b95d9d5",
   "metadata": {},
   "outputs": [],
   "source": [
    "crime_data.crm_cd_desc.value_counts"
   ]
  },
  {
   "cell_type": "code",
   "execution_count": null,
   "id": "9bf36d71",
   "metadata": {},
   "outputs": [],
   "source": [
    "crime_data. area_name.value_counts"
   ]
  },
  {
   "cell_type": "markdown",
   "id": "f7dabd1c",
   "metadata": {},
   "source": [
    "####    Use boxplots to analyze the distribution of various key variables in our crime_data dataset.\n",
    "Generate boxplots for the following variables:\n",
    "\n",
    "-   Victim Age (vict_age): To observe the age distribution of crime victims.\n",
    "-   Latitude (LAT) and Longitude (LON): To analyze the geographical spread of crime incidents.\n",
    "-   Year, Month, and Day: These plots will help us understand the temporal distribution of crimes over years, months, and days.\n",
    "-   Weapon Used Code (weapon_used_cd): To explore the distribution of different types of weapons used in crimes.\n",
    "-   Area (AREA): To see the distribution of crimes across different areas.\n",
    "-   Time of Occurrence (time_occ): To examine the times when crimes are most likely to occur.\n",
    "-   Reporting District Number (rpt_dist_no): To analyze the distribution of crimes across different police reporting districts."
   ]
  },
  {
   "cell_type": "code",
   "execution_count": null,
   "id": "80fca45e",
   "metadata": {},
   "outputs": [],
   "source": [
    "crime_data.vict_age.plot.box(vert=False)\n"
   ]
  },
  {
   "cell_type": "code",
   "execution_count": null,
   "id": "07b05187",
   "metadata": {},
   "outputs": [],
   "source": [
    "crime_data.LAT.plot.box(vert=False)"
   ]
  },
  {
   "cell_type": "code",
   "execution_count": null,
   "id": "ad6b1218",
   "metadata": {},
   "outputs": [],
   "source": [
    "crime_data.LON.plot.box(vert=False)"
   ]
  },
  {
   "cell_type": "code",
   "execution_count": null,
   "id": "e7bcc7a6",
   "metadata": {},
   "outputs": [],
   "source": [
    "crime_data.Year.plot.box(vert=False)"
   ]
  },
  {
   "cell_type": "code",
   "execution_count": null,
   "id": "9bd7759e",
   "metadata": {},
   "outputs": [],
   "source": [
    "crime_data.Month.plot.box(vert=False)"
   ]
  },
  {
   "cell_type": "code",
   "execution_count": null,
   "id": "f12716b6",
   "metadata": {},
   "outputs": [],
   "source": [
    "crime_data.Day.plot.box(vert=False)"
   ]
  },
  {
   "cell_type": "code",
   "execution_count": null,
   "id": "99367d2c",
   "metadata": {},
   "outputs": [],
   "source": [
    "crime_data.weapon_used_cd.plot.box(vert=False)"
   ]
  },
  {
   "cell_type": "code",
   "execution_count": null,
   "id": "48b8296c",
   "metadata": {},
   "outputs": [],
   "source": [
    "crime_data.AREA.plot.box(vert=False)"
   ]
  },
  {
   "cell_type": "code",
   "execution_count": null,
   "id": "f4e0ee56",
   "metadata": {},
   "outputs": [],
   "source": [
    "crime_data.time_occ.plot.box(vert=False)"
   ]
  },
  {
   "cell_type": "code",
   "execution_count": null,
   "id": "33d0b8b9",
   "metadata": {},
   "outputs": [],
   "source": [
    "crime_data.rpt_dist_no.plot.box(vert=False)"
   ]
  },
  {
   "cell_type": "code",
   "execution_count": null,
   "id": "7596f0b3",
   "metadata": {},
   "outputs": [],
   "source": [
    "#Exploratory data analysis"
   ]
  },
  {
   "cell_type": "code",
   "execution_count": null,
   "id": "33ad21c7",
   "metadata": {},
   "outputs": [],
   "source": [
    "crime_type = crime_data.groupby('crm_cd').size()\n",
    "print(crime_type)"
   ]
  },
  {
   "cell_type": "markdown",
   "id": "a8490ff7",
   "metadata": {},
   "source": [
    "####    In-Depth Crime Data Analysis and Visualization\n",
    "-   This section delves into a thorough analysis and visualization of the crime data, focusing on different aspects such as crime types, crime categories, geographical distribution, and temporal patterns. Various groupings, categorization, and plotting techniques are employed to extract meaningful insights from the dataset."
   ]
  },
  {
   "cell_type": "markdown",
   "id": "31f05e1e",
   "metadata": {},
   "source": [
    "-   Analyzing Crime Types and Categories\n",
    "Distribution of Crime Types: Using a histogram, the distribution of different crime types (crm_cd) was examined. This visualization helps identify which crime types are most prevalent in our dataset."
   ]
  },
  {
   "cell_type": "code",
   "execution_count": null,
   "id": "30405491",
   "metadata": {},
   "outputs": [],
   "source": [
    "#Type of Crime：Identify the type of crime that occurs the most\n",
    "crime_grouped = crime_data.groupby(\"crm_cd\").size().reset_index(name=\"n\")\n",
    "crime_grouped[\"prop\"] = round(crime_grouped[\"n\"]/crime_grouped[\"n\"].sum() * 100, 2)\n",
    "\n",
    "fig, ax = plt.subplots(figsize=(15, 5))\n",
    "\n",
    "sns.histplot(data=crime_grouped, x=\"crm_cd\", weights=\"prop\", kde=False, ax=ax, color=\"blue\")\n",
    "\n",
    "sns.set_style(\"white\")\n",
    "ax.set_title(\"Distribution of Crime Types\")\n",
    "ax.set_xlabel(\"Type of Crime\")\n",
    "ax.set_ylabel(\"Proportion (%)\")\n",
    "\n",
    "plt.show()\n",
    "##Other theft account for most of the crime as shown below"
   ]
  },
  {
   "cell_type": "markdown",
   "id": "85cb1317",
   "metadata": {},
   "source": [
    "-   Most Common Crime Categories: Analyze the crime categories to determine the most frequent categories. This is visualized using a histogram, offering a clear view of the proportional representation of each category."
   ]
  },
  {
   "cell_type": "code",
   "execution_count": null,
   "id": "4299bd3d",
   "metadata": {},
   "outputs": [],
   "source": [
    "#Identify the crime category that occurs the most\n",
    "##Type of Crime\n",
    "crime_grouped = crime_data.groupby(\"crime_category\").size().reset_index(name=\"n\")\n",
    "crime_grouped[\"prop\"] = round(crime_grouped[\"n\"]/crime_grouped[\"n\"].sum() * 100, 2)\n",
    "\n",
    "fig, ax = plt.subplots(figsize=(6, 4))\n",
    "\n",
    "sns.histplot(data=crime_grouped, x=\"crime_category\", weights=\"prop\", kde=False, ax=ax, color=\"blue\")\n",
    "\n",
    "sns.set_style(\"white\")\n",
    "ax.set_title(\"Distribution of Crime Category\")\n",
    "ax.set_xlabel(\"Category of Crime\")\n",
    "ax.set_ylabel(\"Proportion (%)\")\n",
    "\n",
    "plt.show()"
   ]
  },
  {
   "cell_type": "markdown",
   "id": "47cc9b37",
   "metadata": {},
   "source": [
    "-   Crime Types in Top Areas: Similarly, we explore the types of crimes (violent or property crimes) prevalent in these high-crime areas. This is also visualized using stacked bar charts."
   ]
  },
  {
   "cell_type": "code",
   "execution_count": null,
   "id": "afd21b2f",
   "metadata": {},
   "outputs": [],
   "source": [
    "#Type of Crime：Identify the type of crime that occurs the most\n",
    "crime_grouped = crime_data.groupby(\"crime_type\").size().reset_index(name=\"n\")\n",
    "crime_grouped[\"prop\"] = round(crime_grouped[\"n\"]/crime_grouped[\"n\"].sum() * 100, 2)\n",
    "\n",
    "fig, ax = plt.subplots(figsize=(6, 4))\n",
    "\n",
    "sns.histplot(data=crime_grouped, x=\"crime_type\", weights=\"prop\", kde=False, ax=ax, color=\"blue\")\n",
    "\n",
    "sns.set_style(\"white\")\n",
    "ax.set_title(\"Distribution of Crime Types\")\n",
    "ax.set_xlabel(\"Type of Crimes\")\n",
    "ax.set_ylabel(\"Proportion (%)\")\n",
    "\n",
    "plt.show()\n",
    "##Other theft account for most of the crime as shown below"
   ]
  },
  {
   "cell_type": "markdown",
   "id": "3d932ab8",
   "metadata": {},
   "source": [
    "-   Geographical Distribution of Crimes\n",
    "Distribution by Area Name: A bar chart is used to visualize the distribution of crimes across different areas. This helps us identify areas with higher crime incidences."
   ]
  },
  {
   "cell_type": "code",
   "execution_count": null,
   "id": "ef06aa60",
   "metadata": {},
   "outputs": [],
   "source": [
    "# Count the occurrences of each area name\n",
    "area_counts = crime_data[\"area_name\"].value_counts()\n",
    "\n",
    "# Create a bar chart to visualize the distribution of area names\n",
    "fig, ax = plt.subplots(figsize=(12,6))\n",
    "sns.barplot(x=area_counts.index, y=area_counts.values, ax=ax, color=\"blue\")\n",
    "sns.set_style(\"white\")\n",
    "ax.set_title(\"Distribution of Crime by Area Name\")\n",
    "ax.set_xlabel(\"Area Name\")\n",
    "ax.set_ylabel(\"Count\")\n",
    "ax.set_xticklabels(ax.get_xticklabels(), rotation=45, ha=\"right\")\n",
    "\n",
    "plt.show()"
   ]
  },
  {
   "cell_type": "markdown",
   "id": "c25768d3",
   "metadata": {},
   "source": [
    "-   Top 10 High Crime Areas: We further narrow down our analysis to the top 10 areas with the highest number of crimes, both for the larger areas and subareas. This is visualized using horizontal bar charts, providing a clear picture of where the majority of crimes are concentrated."
   ]
  },
  {
   "cell_type": "code",
   "execution_count": null,
   "id": "de208fc7",
   "metadata": {},
   "outputs": [],
   "source": [
    "#Location where the crime took place：The top ten areas where most crime took place\n",
    "# Find the Top 10 Regions where the most crimes happened\n",
    "top10 = (crime_data.groupby(['area_name', 'AREA'])\n",
    "         .size()\n",
    "         .reset_index(name='n')\n",
    "         .sort_values(by='n', ascending=False)\n",
    "         .head(10))\n",
    "\n",
    "# Create a new column 'Area' by concatenating 'AREA NAME' and 'Rpt Dist No'\n",
    "top10['Area'] = top10['area_name'] + '_' + top10['AREA'].astype(str)\n",
    "\n",
    "# Map each unique area_name to a unique color\n",
    "color_dict = {area: plt.cm.tab20(i) for i, area in enumerate(top10['area_name'].unique())}\n",
    "\n",
    "# Map area_name column to colors using the color_dict\n",
    "colors = [color_dict[area] for area in top10['area_name']]\n",
    "\n",
    "# Plot the Top 10 Regions\n",
    "plt.figure(figsize=(8,4))\n",
    "plt.barh(top10['Area'], top10['n'], color=colors)\n",
    "plt.title('Top ten of the areas that have the most numbers of the crime commited')\n",
    "plt.xlabel('Number of the crime commited')\n",
    "plt.ylabel('Area')\n",
    "plt.show()"
   ]
  },
  {
   "cell_type": "markdown",
   "id": "c52e8256",
   "metadata": {},
   "source": [
    "-   Categorization of Crimes in High Crime Areas\n",
    "Crime Categories in Top Areas: For the top crime-prone areas, we analyze the distribution of different crime categories. This is depicted through stacked bar charts, offering insights into the types of crimes that are most common in these areas."
   ]
  },
  {
   "cell_type": "code",
   "execution_count": null,
   "id": "c9d91d7f",
   "metadata": {},
   "outputs": [],
   "source": [
    "#DISTRIBUTION OF TOP TEN HIGH CRIME AREAS AND CRIME CATEGORY\n",
    "# Assuming pandas library is imported and crime_data is the data frame\n",
    "top_10_areas = crime_data['AREA'].value_counts().nlargest(10).index.tolist()\n",
    "\n",
    "# Create a new column 'Area' by concatenating 'area_name' and 'AREA'\n",
    "crime_data['Area'] = crime_data['area_name'] + '_' + crime_data['AREA'].astype(str)\n",
    "\n",
    "crime_in_top_10 = crime_data[crime_data['AREA'].isin(top_10_areas)]\n",
    "crime_categories_in_top_10 = crime_in_top_10['crime_category'].unique().tolist()\n",
    "\n",
    "crime_counts = crime_in_top_10.groupby(['Area', 'crime_category']).size().unstack()\n",
    "\n",
    "# Sort the bars in descending order of total crime counts for each area\n",
    "crime_counts = crime_counts.loc[crime_counts.sum(axis=1).sort_values(ascending=False).index]\n",
    "\n",
    "plt.figure(figsize=(8, 4))\n",
    "crime_counts.plot(kind='barh', stacked=True, alpha=0.7)\n",
    "plt.xlabel('Number of Crimes')\n",
    "plt.title('Top 10 High Crime Areas and Crime Categories')\n",
    "plt.legend(loc='upper right')\n",
    "plt.show()\n"
   ]
  },
  {
   "cell_type": "code",
   "execution_count": null,
   "id": "bbcd2fe7",
   "metadata": {},
   "outputs": [],
   "source": [
    "#DISTRIBUTION OF TOP TEN HIGH CRIME AREAS AND CRIME TYPES\n",
    "\n",
    "# Assuming pandas library is imported and crime_data is the data frame\n",
    "top_10_areas = crime_data['AREA'].value_counts().nlargest(10).index.tolist()\n",
    "\n",
    "# Create a new column 'Area' by concatenating 'area_name' and 'AREA'\n",
    "crime_data['Area'] = crime_data['area_name'] + '_' + crime_data['AREA'].astype(str)\n",
    "\n",
    "crime_in_top_10 = crime_data[crime_data['AREA'].isin(top_10_areas)]\n",
    "crime_categories_in_top_10 = crime_in_top_10['crime_type'].unique().tolist()\n",
    "\n",
    "crime_counts = crime_in_top_10.groupby(['Area', 'crime_type']).size().unstack()\n",
    "\n",
    "# Sort the bars in descending order of total crime counts for each area\n",
    "crime_counts = crime_counts.loc[crime_counts.sum(axis=1).sort_values(ascending=False).index]\n",
    "\n",
    "plt.figure(figsize=(8, 4))\n",
    "crime_counts.plot(kind='barh', stacked=True, alpha=0.7)\n",
    "plt.xlabel('Number of Crimes')\n",
    "plt.title('Top 10 High Crime Areas and Crime Types')\n",
    "plt.legend(loc='upper right')\n",
    "plt.show()\n"
   ]
  },
  {
   "cell_type": "code",
   "execution_count": null,
   "id": "472908d3",
   "metadata": {},
   "outputs": [],
   "source": [
    "#Location where the crime took place：The top ten subareas where most crime took place\n",
    "# Find the Top 10 Regions where the most crimes happened\n",
    "top10 = (crime_data.groupby(['area_name', 'rpt_dist_no'])\n",
    "         .size()\n",
    "         .reset_index(name='n')\n",
    "         .sort_values(by='n', ascending=False)\n",
    "         .head(10))\n",
    "\n",
    "# Create a new column 'Area' by concatenating 'AREA NAME' and 'Rpt Dist No'\n",
    "top10['Area'] = top10['area_name'] + '_' + top10['rpt_dist_no'].astype(str)\n",
    "\n",
    "# Map each unique area_name to a unique color\n",
    "color_dict = {area: plt.cm.tab20(i) for i, area in enumerate(top10['area_name'].unique())}\n",
    "\n",
    "# Map area_name column to colors using the color_dict\n",
    "colors = [color_dict[area] for area in top10['area_name']]\n",
    "\n",
    "# Plot the Top 10 Regions\n",
    "plt.figure(figsize=(10,5))\n",
    "plt.barh(top10['Area'], top10['n'], color=colors)\n",
    "plt.title('Top ten of the subareas that have the most numbers of the crime commited')\n",
    "plt.xlabel('Number of the crime commited')\n",
    "plt.ylabel('Area')\n",
    "plt.show()"
   ]
  },
  {
   "cell_type": "code",
   "execution_count": null,
   "id": "5e515518",
   "metadata": {},
   "outputs": [],
   "source": [
    "#Location where the crime took place：The top ten subareas with crime Categories\n",
    "top_10_areas = crime_data['rpt_dist_no'].value_counts().nlargest(10).index.tolist()\n",
    "\n",
    "\n",
    "# Create a new column 'Area' by concatenating 'AREA NAME' and 'Rpt Dist No'\n",
    "crime_data['Area'] = crime_data['area_name'] + '_' + crime_data['rpt_dist_no'].astype(str)\n",
    "\n",
    "# Create a new column 'Area' by concatenating 'area_name' and 'AREA'\n",
    "#crime_data['Area'] = crime_data['area_name'] + '_' + crime_data['AREA'].astype(str)\n",
    "\n",
    "crime_in_top_10 = crime_data[crime_data['rpt_dist_no'].isin(top_10_areas)]\n",
    "crime_categories_in_top_10 = crime_in_top_10['crime_category'].unique().tolist()\n",
    "\n",
    "crime_counts = crime_in_top_10.groupby(['Area', 'crime_category']).size().unstack()\n",
    "\n",
    "# Sort the bars in descending order of total crime counts for each area\n",
    "crime_counts = crime_counts.loc[crime_counts.sum(axis=1).sort_values(ascending=False).index]\n",
    "\n",
    "plt.figure(figsize=(10, 6))\n",
    "crime_counts.plot(kind='barh', stacked=True, alpha=0.7)\n",
    "plt.xlabel('Number of Crimes')\n",
    "plt.title('Top 10 High Crime SubAreas and Crime Categories')\n",
    "plt.legend(loc='upper right')\n",
    "plt.show()"
   ]
  },
  {
   "cell_type": "code",
   "execution_count": null,
   "id": "5de77ec5",
   "metadata": {},
   "outputs": [],
   "source": [
    "\n",
    "#Location where the crime took place：The top ten subareas where most crime took place with Crime types\n",
    "# Assuming pandas library is imported and crime_data is the data frame\n",
    "top_10_areas = crime_data['rpt_dist_no'].value_counts().nlargest(10).index.tolist()\n",
    "\n",
    "\n",
    "# Create a new column 'Area' by concatenating 'AREA NAME' and 'Rpt Dist No'\n",
    "crime_data['Area'] = crime_data['area_name'] + '_' + crime_data['rpt_dist_no'].astype(str)\n",
    "\n",
    "# Create a new column 'Area' by concatenating 'area_name' and 'AREA'\n",
    "#crime_data['Area'] = crime_data['area_name'] + '_' + crime_data['AREA'].astype(str)\n",
    "\n",
    "crime_in_top_10 = crime_data[crime_data['rpt_dist_no'].isin(top_10_areas)]\n",
    "crime_categories_in_top_10 = crime_in_top_10['crime_type'].unique().tolist()\n",
    "\n",
    "crime_counts = crime_in_top_10.groupby(['Area', 'crime_type']).size().unstack()\n",
    "\n",
    "# Sort the bars in descending order of total crime counts for each area\n",
    "crime_counts = crime_counts.loc[crime_counts.sum(axis=1).sort_values(ascending=False).index]\n",
    "\n",
    "plt.figure(figsize=(10, 6))\n",
    "crime_counts.plot(kind='barh', stacked=True, alpha=0.7)\n",
    "plt.xlabel('Number of Crimes')\n",
    "plt.title('Top 10 High Crime SubAreas and Crime Types')\n",
    "plt.legend(loc='upper right')\n",
    "plt.show()"
   ]
  },
  {
   "cell_type": "markdown",
   "id": "88bb4e69",
   "metadata": {},
   "source": [
    "-   Temporal Analysis of Crime Data\n",
    "Time Series Analysis of Crime Reports: Finally, we conduct a time series analysis by plotting the number of crime reports over time. This graph helps us understand trends and patterns in crime occurrences over the years."
   ]
  },
  {
   "cell_type": "code",
   "execution_count": null,
   "id": "283a8106",
   "metadata": {},
   "outputs": [],
   "source": [
    "#visualizing the frequency of crimes that occurred at different times of the day, with an increasing trend in crime rate as the day progresses\n",
    "#number of crime reports over time. using timeseries graph\n",
    "crime_data['Date'] = pd.to_datetime(crime_data[['Year', 'Month', 'Day']])\n",
    "\n",
    "# Group the crime reports by date and count the number of reports per day\n",
    "daily_counts = crime_data.groupby('Date').size()\n",
    "\n",
    "# Plot the daily crime report counts as a time series\n",
    "plt.figure(figsize=(8, 5))\n",
    "plt.plot(daily_counts.index, daily_counts.values)\n",
    "plt.title('Crime Reports Over Time')\n",
    "plt.xlabel('Date')\n",
    "plt.ylabel('Number of Reports')\n",
    "plt.show()\n"
   ]
  },
  {
   "cell_type": "markdown",
   "id": "38df50eb",
   "metadata": {},
   "source": [
    "####    Crime Reports Analysis by Year\n",
    "-   This section visualizes the number of crime reports for each year in the dataset. Convert the existing 'Year', 'Month', and 'Day' columns into a single datetime column 'Date', and then create a bar plot to display the frequency of crime reports per year. This visualization helps in understanding trends and changes in crime rates over time."
   ]
  },
  {
   "cell_type": "code",
   "execution_count": null,
   "id": "71192add",
   "metadata": {},
   "outputs": [],
   "source": [
    "#Get the Crime report by Year\n",
    "crime_data['Date'] = pd.to_datetime(crime_data[['Year', 'Month', 'Day']])\n",
    "\n",
    "# Extract the year from the date column and plot a bar plot of the counts\n",
    "crime_data['Date'].dt.year.value_counts().sort_index().plot(kind='bar')\n",
    "\n",
    "plt.title('Crime Reports by Year')\n",
    "plt.xlabel('Year')\n",
    "plt.ylabel('Number of Reports')\n",
    "plt.show()\n"
   ]
  },
  {
   "cell_type": "code",
   "execution_count": null,
   "id": "6d17adcc",
   "metadata": {},
   "outputs": [],
   "source": [
    "#Crime report by Month/year\n",
    "# Assuming the crime_data DataFrame has columns called \"Year\", \"Month\", and \"Day\"\n",
    "crime_data['Date'] = pd.to_datetime(crime_data[['Year', 'Month', 'Day']])\n",
    "\n",
    "# Group the crime reports by year and month and count the number of reports per month\n",
    "monthly_counts = crime_data.groupby([crime_data['Date'].dt.year, crime_data['Date'].dt.month]).size()\n",
    "\n",
    "# Plot the monthly crime report counts as a bar chart\n",
    "fig, ax = plt.subplots(figsize=(15, 5))\n",
    "monthly_counts.plot(kind='bar', ax=ax)\n",
    "ax.set_title('Crime Reports by Year and Month')\n",
    "ax.set_xlabel('Year, Month')\n",
    "ax.set_ylabel('Number of Reports')\n",
    "plt.show()\n"
   ]
  },
  {
   "cell_type": "markdown",
   "id": "9214197c",
   "metadata": {},
   "source": [
    "####    Crime Reports Analysis by Month and Year\n",
    "Next, delve deeper into the temporal distribution of crime by examining crime reports on a month-by-year basis. By grouping the data by both year and month, create a comprehensive bar chart that reveals the monthly crime trends across different years. This detailed view aids in identifying seasonal patterns or specific months with unusually high or low crime rates."
   ]
  },
  {
   "cell_type": "code",
   "execution_count": null,
   "id": "cb7708e9",
   "metadata": {},
   "outputs": [],
   "source": [
    "#crime Occurence by Region and Month 2020\n",
    "# Filter the data to only include the year 2020\n",
    "crime_data_2020 = crime_data[crime_data['Year'] == 2020]\n",
    "\n",
    "# Group the data by region, year, and month to get the total number of crimes in each region for each month and year in 2020\n",
    "crime_data_grouped = crime_data_2020.groupby(['AREA', 'Year', 'Month', 'crm_cd_desc']).size().reset_index(name='crime_count')  \n",
    "\n",
    "# Plot the data using a heatmap\n",
    "plt.figure(figsize=(10, 5))\n",
    "sns.heatmap(crime_data_grouped.pivot_table(values='crime_count', index='AREA', columns=['Month', 'Year'], aggfunc='sum', fill_value=0), cmap='YlOrRd', annot=True, fmt='g')\n",
    "plt.title('Crime Occurrences by Region and Month in 2020')\n",
    "plt.xlabel('Month')\n",
    "plt.ylabel('Region')\n",
    "plt.show()\n"
   ]
  },
  {
   "cell_type": "code",
   "execution_count": null,
   "id": "4533aa2b",
   "metadata": {},
   "outputs": [],
   "source": [
    "#crime Occurence by Region and Month 2021\n",
    "# Filter the data to only include the year 2021\n",
    "crime_data_2021 = crime_data[crime_data['Year'] == 2021]\n",
    "\n",
    "# Group the data by region, year, and month to get the total number of crimes in each region for each month and year in 2021\n",
    "crime_data_grouped = crime_data_2021.groupby(['AREA', 'Year', 'Month', 'crm_cd_desc']).size().reset_index(name='crime_count')  \n",
    "\n",
    "# Plot the data using a heatmap\n",
    "plt.figure(figsize=(10, 5))\n",
    "sns.heatmap(crime_data_grouped.pivot_table(values='crime_count', index='AREA', columns=['Month', 'Year'], aggfunc='sum', fill_value=0), cmap='YlOrRd', annot=True, fmt='g')\n",
    "plt.title('Crime Occurrences by Region and Month in 2021')\n",
    "plt.xlabel('Month')\n",
    "plt.ylabel('Region')\n",
    "plt.show()"
   ]
  },
  {
   "cell_type": "code",
   "execution_count": null,
   "id": "c2bb11b0",
   "metadata": {},
   "outputs": [],
   "source": [
    "#crime Occurence by Region and Month 2022\n",
    "# Filter the data to only include the year 2022\n",
    "crime_data_2022 = crime_data[crime_data['Year'] == 2022]\n",
    "\n",
    "# Group the data by region, year, and month to get the total number of crimes in each region for each month and year in 2022\n",
    "crime_data_grouped = crime_data_2022.groupby(['AREA', 'Year', 'Month', 'crm_cd_desc']).size().reset_index(name='crime_count')  \n",
    "\n",
    "# Plot the data using a heatmap\n",
    "plt.figure(figsize=(10, 5))\n",
    "sns.heatmap(crime_data_grouped.pivot_table(values='crime_count', index='AREA', columns=['Month', 'Year'], aggfunc='sum', fill_value=0), cmap='YlOrRd', annot=True, fmt='g')\n",
    "plt.title('Crime Occurrences by Region and Month in 2022')\n",
    "plt.xlabel('Month')\n",
    "plt.ylabel('Region')\n",
    "plt.show()"
   ]
  },
  {
   "cell_type": "code",
   "execution_count": null,
   "id": "70547c2d",
   "metadata": {
    "scrolled": true
   },
   "outputs": [],
   "source": [
    "# Use groupby() and first() methods to get the corresponding AREA for each area_name\n",
    "area_mapping = crime_data.groupby('area_name')['AREA'].first()\n",
    "\n",
    "# Print the area_mapping Series\n",
    "print(area_mapping)\n",
    "\n"
   ]
  },
  {
   "cell_type": "code",
   "execution_count": null,
   "id": "812619bc",
   "metadata": {},
   "outputs": [],
   "source": [
    "#crime Occurence by Region and Month 2023\n",
    "# Filter the data to only include the year 2023\n",
    "crime_data_2023 = crime_data[crime_data['Year'] == 2023]\n",
    "\n",
    "# Group the data by region, year, and month to get the total number of crimes in each region for each month and year in 2023\n",
    "crime_data_grouped = crime_data_2023.groupby(['AREA', 'Year', 'Month', 'crm_cd_desc']).size().reset_index(name='crime_count')  \n",
    "\n",
    "# Plot the data using a heatmap\n",
    "plt.figure(figsize=(10, 5))\n",
    "sns.heatmap(crime_data_grouped.pivot_table(values='crime_count', index='AREA', columns=['Month', 'Year'], aggfunc='sum', fill_value=0), cmap='YlOrRd', annot=True, fmt='g')\n",
    "plt.title('Crime Occurrences by Region and Month in 2023')\n",
    "plt.xlabel('Month')\n",
    "plt.ylabel('Region')\n",
    "plt.show()"
   ]
  },
  {
   "cell_type": "code",
   "execution_count": null,
   "id": "d16aa0f9",
   "metadata": {},
   "outputs": [],
   "source": [
    "crime_data['vict_age'].astype(int)"
   ]
  },
  {
   "cell_type": "code",
   "execution_count": null,
   "id": "7ba84d3a",
   "metadata": {},
   "outputs": [],
   "source": [
    "#distribution of victim ages for different areas"
   ]
  },
  {
   "cell_type": "code",
   "execution_count": null,
   "id": "524eb416",
   "metadata": {},
   "outputs": [],
   "source": [
    "#Victim age distribution: this plot allows us to visualize the distribution of victim ages \n",
    "#in the crime_data dataset, and to identify any patterns or trends in the data. \n",
    "#We can see how many victims fall into each age range, and whether there are any age\n",
    "#groups that are overrepresented or underrepresented in the dataset."
   ]
  },
  {
   "cell_type": "code",
   "execution_count": null,
   "id": "0863d087",
   "metadata": {},
   "outputs": [],
   "source": [
    "#Victim Age by Areas: show the distribution of victim ages across the selected areas. \n",
    "#each histogram represents a different selected area, \n",
    "#and the color of each histogram will be based on the selected color palette.\n",
    "\n",
    "#The purpose of the code is to provide a visual representation of the distribution of victim ages \n",
    "#across selected areas to help understand the crime data."
   ]
  },
  {
   "cell_type": "markdown",
   "id": "933a7ad3",
   "metadata": {},
   "source": [
    "####    Victim Age Distribution Analysis\n",
    "-   Analyze the age distribution of crime victims by plotting a histogram of the 'vict_age' column. This visualization gives insights into which age groups are most frequently affected by crimes. Following this, categorize the ages into groups like 'Children', 'Youth', 'Adult', and 'Senior' to better understand the age demographics of the victims. Also create a pie chart to visualize the overall distribution of age categories."
   ]
  },
  {
   "cell_type": "code",
   "execution_count": null,
   "id": "ef6eebdb",
   "metadata": {},
   "outputs": [],
   "source": [
    "#Victim Age Dsitribution\n",
    "plt.figure(figsize=(10,5))\n",
    "plt.hist(crime_data['vict_age'], bins=range(0, 100, 5), color='lightblue', edgecolor='grey')\n",
    "plt.title('Victim Age distribution')\n",
    "plt.xlabel('Age')\n",
    "plt.ylabel('Number of Victim Age')\n",
    "plt.show()"
   ]
  },
  {
   "cell_type": "code",
   "execution_count": null,
   "id": "c884acee",
   "metadata": {},
   "outputs": [],
   "source": [
    "#Define the age category from the Vict_age column\n",
    "def Age_Category(col):\n",
    "    if (col <= 0):\n",
    "        return 'Unknown Age'\n",
    "    elif (col > 0) & (col <= 14):\n",
    "        return 'Children'\n",
    "    elif (col >= 15) & (col <= 24):\n",
    "        return 'Youth'\n",
    "    elif (col >= 25) & (col <= 64):\n",
    "        return 'Adult'\n",
    "    else:\n",
    "        return 'senior'\n"
   ]
  },
  {
   "cell_type": "code",
   "execution_count": null,
   "id": "9baf5919",
   "metadata": {},
   "outputs": [],
   "source": [
    "#Get the age distribution\n",
    "age_distribution = crime_data['vict_age'].apply(Age_Category)\n",
    "age_distribution.value_counts()"
   ]
  },
  {
   "cell_type": "code",
   "execution_count": null,
   "id": "0cb8fff9",
   "metadata": {},
   "outputs": [],
   "source": [
    "#Plot bar char to see the age distribution\n",
    "plt.figure(figsize=(10,5))\n",
    "age_distribution = crime_data['vict_age'].apply(Age_Category)\n",
    "age_counts = age_distribution.value_counts()\n",
    "\n",
    "sns.countplot(x=age_distribution)\n",
    "plt.title('Age Distribution')\n",
    "plt.xlabel('Age Category')\n",
    "plt.ylabel('Number of Victim Age')\n",
    "plt.show()"
   ]
  },
  {
   "cell_type": "code",
   "execution_count": null,
   "id": "61f50ae2",
   "metadata": {},
   "outputs": [],
   "source": [
    "#distribution of Age CAtegory\n",
    "crime_data['Age_Category'] = crime_data['vict_age'].apply(Age_Category)\n",
    "\n",
    "age_count = crime_data.groupby(['Age_Category', 'area_name']).size().reset_index(name='counts')\n",
    "\n",
    "age_count.groupby('Age_Category')['counts'].sum().plot(kind='pie', figsize=(10, 5), autopct='%1.1f%%')\n",
    "plt.title('Victim Age distribution')\n",
    "plt.ylabel('')\n",
    "plt.show()"
   ]
  },
  {
   "cell_type": "markdown",
   "id": "bd7aa4a1",
   "metadata": {},
   "source": [
    "####    Victim Age Distribution by Region\n",
    "-   Explore the intersection of victim age and geographical factors, by calculating and ploting the distribution of victim ages across different regions. Use stacked bar charts to depict the distribution of victim ages in different areas and specifically in the top 10 high-crime areas. These visualizations allow us to see how victim age profiles may vary across different regions."
   ]
  },
  {
   "cell_type": "code",
   "execution_count": null,
   "id": "6b632b4b",
   "metadata": {},
   "outputs": [],
   "source": [
    "#Get the Victim age by Area Distribution\n",
    "# Calculate the crime count by age category and area name\n",
    "age_count = crime_data.groupby(['Age_Category', 'area_name']).size().reset_index(name='counts')\n",
    "\n",
    "# Calculate the total crime count for each area name\n",
    "total_counts = age_count.groupby('area_name')['counts'].sum().reset_index(name='total_counts')\n",
    "\n",
    "# Sort the data by total crime count for each area name in ascending order\n",
    "total_counts = total_counts.sort_values(by='total_counts', ascending=True)\n",
    "\n",
    "# Use the sorted area names to sort the stacked bars in the plot\n",
    "sorted_area_names = total_counts['area_name'].tolist()\n",
    "\n",
    "# Pivot the data to create a stacked bar plot with sorted area names\n",
    "age_count_pivot = age_count.pivot(index='area_name', columns='Age_Category', values='counts')\n",
    "age_count_pivot = age_count_pivot.loc[sorted_area_names]\n",
    "age_count_pivot.plot(kind='bar', stacked=True, figsize=(10, 4))\n",
    "\n",
    "# Add title and axis labels\n",
    "plt.title('Victim Age and Area distribution')\n",
    "plt.xlabel('Area Name')\n",
    "plt.ylabel('Numbers of Victims')\n",
    "\n",
    "# Show the plot\n",
    "plt.show()\n"
   ]
  },
  {
   "cell_type": "code",
   "execution_count": null,
   "id": "feec6496",
   "metadata": {},
   "outputs": [],
   "source": [
    "#Get the Victim Age by Area Distribution in the top 10 Areas\n",
    "# Calculate the total crime count for each area name\n",
    "total_counts = age_count.groupby('area_name')['counts'].sum().reset_index(name='total_counts')\n",
    "\n",
    "# Sort the data by total crime count for each area name in descending order and get top 10 areas\n",
    "top10_area_names = total_counts.sort_values(by='total_counts', ascending=False).head(10)['area_name'].tolist()\n",
    "\n",
    "# Filter the age_count dataframe to keep only the top 10 areas\n",
    "age_count_top10 = age_count[age_count['area_name'].isin(top10_area_names)]\n",
    "\n",
    "# Use the sorted area names to sort the stacked bars in the plot\n",
    "sorted_area_names = age_count_top10.groupby('area_name')['counts'].sum().sort_values().index.tolist()\n",
    "\n",
    "# Pivot the data to create a stacked bar plot with sorted area names\n",
    "age_count_top10_pivot = age_count_top10.pivot(index='area_name', columns='Age_Category', values='counts')\n",
    "age_count_top10_pivot = age_count_top10_pivot.loc[sorted_area_names]\n",
    "age_count_top10_pivot.plot(kind='bar', stacked=True, figsize=(10, 4))\n",
    "\n",
    "# Add title and axis labels\n",
    "plt.title('Victim Age and Area distribution in Top 10 Areas')\n",
    "plt.xlabel('Area Name')\n",
    "plt.ylabel('Numbers of Victims')\n",
    "\n",
    "# Show the plot\n",
    "plt.show()\n"
   ]
  },
  {
   "cell_type": "markdown",
   "id": "e11f9393",
   "metadata": {},
   "source": [
    "-   Victim Sex Distribution: this plot allows us to visualize the distribution of victim sex in the crime_data dataset, \n",
    "and to identify whether there are any imbalances or biases in the data. \n",
    "We can see how many victims are male and how many are female, \n",
    "and whether there are any other categories of sex that are present in the data."
   ]
  },
  {
   "cell_type": "markdown",
   "id": "6fb88cfa",
   "metadata": {},
   "source": [
    "####    Victim Sex Distribution Analysis\n",
    "-   In this part, Visualize the distribution of the victims' sex. A bar chart is used to display the number of crimes affecting different sexes. This analysis is crucial for understanding the gender-based dynamics of crime victimization."
   ]
  },
  {
   "cell_type": "code",
   "execution_count": null,
   "id": "e9042731",
   "metadata": {},
   "outputs": [],
   "source": [
    "#Get the Victim SEx Distribution\n",
    "plt.figure(figsize=(10,5))\n",
    "\n",
    "# Create a bar plot of victim sex distribution\n",
    "plt.bar(crime_data['vict_sex'].unique(), crime_data['vict_sex'].value_counts(), color='lightblue', edgecolor='grey')\n",
    "\n",
    "# Add title and axis labels\n",
    "plt.title('Victim Sex distribution')\n",
    "plt.xlabel('Sex')\n",
    "plt.ylabel('Numbers of Victim Sex')\n",
    "\n",
    "# Display the plot\n",
    "plt.show()"
   ]
  },
  {
   "cell_type": "markdown",
   "id": "4257dbf2",
   "metadata": {},
   "source": [
    "-   Victim sex distribution by region. The chart shows that, except for the Southeast region, \n",
    "male victims are more common than female victims in other regions. \n",
    "For example, in the Central region, about 60% of the victims are male \n",
    "and 40% are female. In the Hollywood region, about 70% of the victims are male and 30% are female. \n",
    "In the Southeast region, the proportion of male and female victims is roughly equal."
   ]
  },
  {
   "cell_type": "markdown",
   "id": "c127c08b",
   "metadata": {},
   "source": [
    "####   Victim Descent Distribution Analysis\n",
    "-   Examine the distribution of victims' descent to understand the ethnic or racial backgrounds most affected by crimes. A bar chart is utilized to represent the frequency of different descents in the dataset, providing insights into which groups are more commonly victimized."
   ]
  },
  {
   "cell_type": "code",
   "execution_count": null,
   "id": "3ed043ab",
   "metadata": {},
   "outputs": [],
   "source": [
    "#Analyzing and visualizing the distribution of victim descent across different areas\n",
    "#Victim distribution in the dataset\n",
    "\n",
    "plt.figure(figsize=(10, 5))\n",
    "\n",
    "# Count the number of occurrences of each victim descent\n",
    "counts = crime_data['vict_descent'].value_counts()\n",
    "\n",
    "# Create a bar chart of the counts using seaborn\n",
    "sns.barplot(x=counts.index, y=counts.values)\n",
    "\n",
    "# Set the title and axis labels\n",
    "plt.title('Victim Descent Distribution')\n",
    "plt.xlabel('Victim Descent')\n",
    "plt.ylabel('Count')\n",
    "\n",
    "# Show the chart\n",
    "plt.show()\n"
   ]
  },
  {
   "cell_type": "markdown",
   "id": "2a813abe",
   "metadata": {},
   "source": [
    "#####   Descent Code: A \n",
    "- Other Asian A     - Black B   - Chinese C     - Cambodian D   - Filipino F    - Guamanian G   - Hispanic/Latin/Mexican H  - American Indian/Alaskan Native I\n",
    "- Japanese  J   - Korean K  - Laotian L     - Other  O      - Pacific Islander P    - Samoan  S     - Hawaiian U    - Vietnamese V  - White  W  - Unknown  X    - Asian Indian Z"
   ]
  },
  {
   "cell_type": "markdown",
   "id": "be4d9298",
   "metadata": {},
   "source": [
    "####    Analysis of Weapon Usage in Crimes\n",
    "-   Analyze the types and proportions of weapons used in crimes. By counting the occurrences of each weapon description and calculating their proportions, we identify the most commonly used weapons. A bar chart is then used to illustrate these proportions, highlighting the prevalence of different types of weapons in criminal activities."
   ]
  },
  {
   "cell_type": "code",
   "execution_count": null,
   "id": "5695003c",
   "metadata": {},
   "outputs": [],
   "source": [
    "#Visualising the weapons used and the distribution across the data\n",
    "#proportion and types of weapon used \n",
    "## Count the number of occurrences of each weapon description\n",
    "weapon_counts = crime_data['weapon_desc'].value_counts()\n",
    "\n",
    "# Calculate the proportion of each weapon description out of the total number of crimes\n",
    "weapon_props = weapon_counts / sum(weapon_counts)\n",
    "\n",
    "# Filter out any weapon descriptions that have a proportion less than 0.5%\n",
    "weapon_props = weapon_props[weapon_props >= 0.005]\n",
    "\n",
    "# Create a bar chart to show the proportion of different types of weapons used in crimes\n",
    "plt.figure(figsize=(15, 3))\n",
    "plt.bar(weapon_props.index, weapon_props)\n",
    "plt.xticks(rotation=90)\n",
    "plt.xlabel('Weapon used')\n",
    "plt.ylabel('Proportion')\n",
    "plt.title('Weapon Proportions in Crime Data')\n",
    "plt.show()"
   ]
  },
  {
   "cell_type": "code",
   "execution_count": null,
   "id": "117c4507",
   "metadata": {},
   "outputs": [],
   "source": []
  }
 ],
 "metadata": {
  "kernelspec": {
   "display_name": "Python 3 (ipykernel)",
   "language": "python",
   "name": "python3"
  },
  "language_info": {
   "codemirror_mode": {
    "name": "ipython",
    "version": 3
   },
   "file_extension": ".py",
   "mimetype": "text/x-python",
   "name": "python",
   "nbconvert_exporter": "python",
   "pygments_lexer": "ipython3",
   "version": "3.12.1"
  }
 },
 "nbformat": 4,
 "nbformat_minor": 5
}
